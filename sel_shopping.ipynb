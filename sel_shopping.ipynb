{
 "cells": [
  {
   "cell_type": "markdown",
   "id": "82697912",
   "metadata": {},
   "source": [
    "#### 쇼핑 검색\n",
    "\n",
    "시작 url : https://www.naver.com\n",
    "\n",
    "* 네이버 홈페이지에서, 쿠팡, G마켓 페이지로 이동 (총 3개 탭)\n",
    "* 쿠팡, G마켓에서 각각 \"고양이 캔\"으로 검색"
   ]
  },
  {
   "cell_type": "code",
   "execution_count": 2,
   "id": "491f7270",
   "metadata": {},
   "outputs": [],
   "source": [
    "from selenium import webdriver\n",
    "from selenium.webdriver.common.by import By\n",
    "from selenium.webdriver.common.keys import Keys\n",
    "from selenium.webdriver.support.wait import WebDriverWait"
   ]
  },
  {
   "cell_type": "code",
   "execution_count": 12,
   "id": "c3184903",
   "metadata": {},
   "outputs": [],
   "source": [
    "driver = webdriver.Chrome()\n",
    "driver.get('https://www.naver.com')\n",
    "\n",
    "shopping_iframes = driver.find_elements(By.XPATH, '//iframe[@id=\"shopcast_iframe\"]')\n",
    "driver.switch_to.frame(shopping_iframes[0])\n",
    "\n",
    "mall_links = driver.find_elements(By.XPATH, '//a[contains(@class,\"mall\")]')"
   ]
  },
  {
   "cell_type": "code",
   "execution_count": 13,
   "id": "4636a0bf",
   "metadata": {},
   "outputs": [
    {
     "name": "stdout",
     "output_type": "stream",
     "text": [
      "NAVER\n",
      "CDwindow-246D673256002746520E12ADF4693E2A\n",
      "['CDwindow-246D673256002746520E12ADF4693E2A', 'CDwindow-66C3ADB97867F96536DC2B438299342C']\n"
     ]
    }
   ],
   "source": [
    "# g-market\n",
    "mall_links[1].click()\n",
    "\n",
    "print(driver.title)\n",
    "print(driver.current_window_handle)\n",
    "print(driver.window_handles)\n",
    "driver.switch_to.window(driver.window_handles[1])"
   ]
  },
  {
   "cell_type": "code",
   "execution_count": 15,
   "id": "2a1c37e3",
   "metadata": {},
   "outputs": [
    {
     "name": "stdout",
     "output_type": "stream",
     "text": [
      "[<selenium.webdriver.remote.webelement.WebElement (session=\"e39e86cb1bfa09284dfa14ae3d27a9a7\", element=\"c7970840-a939-4e96-bdda-6f30ce1ecc82\")>]\n"
     ]
    }
   ],
   "source": [
    "x = driver.find_elements(By.XPATH, '//input[@name=\"keyword\"]')\n",
    "print(x)\n",
    "x[0].send_keys('고양이 캔'+Keys.ENTER)"
   ]
  },
  {
   "cell_type": "code",
   "execution_count": 9,
   "id": "e241588f",
   "metadata": {},
   "outputs": [
    {
     "name": "stdout",
     "output_type": "stream",
     "text": [
      "NAVER\n",
      "CDwindow-315036E9B7646D8F86FDF190DEAD38C4\n",
      "['CDwindow-315036E9B7646D8F86FDF190DEAD38C4', 'CDwindow-B45386FDE73C41D293434F425DA6E429']\n"
     ]
    }
   ],
   "source": [
    "# coupang\n",
    "mall_links[0].click()\n",
    "\n",
    "print(driver.title)\n",
    "print(driver.current_window_handle)\n",
    "print(driver.window_handles)\n",
    "driver.switch_to.window(driver.window_handles[1])\n",
    "\n",
    "for h in driver.window_handles:\n",
    "    if h == driver.current_window_handle:\n",
    "        pass\n",
    "    else:\n",
    "        driver.switch_to.window(h)\n",
    "        if 'G마켓' in driver.title:\n",
    "            x = driver.find_elements(By.XPATH, '//input[@name=\"keyword\"]')\n",
    "            print(x)\n",
    "            x[0].send_keys('고양이 캔'+Keys.ENTER)\n",
    "        elif '쿠팡' in driver.title:\n",
    "            x = driver.find_elements(By.XPATH, '//input[@id=\"headerSearchKeyword\"]')\n",
    "            print(x)\n",
    "            x[0].send_keys('고양이 캔'+Keys.ENTER)"
   ]
  }
 ],
 "metadata": {
  "kernelspec": {
   "display_name": "Python 3 (ipykernel)",
   "language": "python",
   "name": "python3"
  },
  "language_info": {
   "codemirror_mode": {
    "name": "ipython",
    "version": 3
   },
   "file_extension": ".py",
   "mimetype": "text/x-python",
   "name": "python",
   "nbconvert_exporter": "python",
   "pygments_lexer": "ipython3",
   "version": "3.10.6"
  }
 },
 "nbformat": 4,
 "nbformat_minor": 5
}
