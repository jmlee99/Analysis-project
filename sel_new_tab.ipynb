{
 "cells": [
  {
   "cell_type": "code",
   "execution_count": 1,
   "id": "7253c50d",
   "metadata": {},
   "outputs": [],
   "source": [
    "from selenium import webdriver\n",
    "from selenium.webdriver.common.by import By\n",
    "from selenium.webdriver.common.keys import Keys\n",
    "from selenium.webdriver.support.wait import WebDriverWait"
   ]
  },
  {
   "cell_type": "code",
   "execution_count": 2,
   "id": "9d42689d",
   "metadata": {},
   "outputs": [],
   "source": [
    "def do_naver(search_keyword):\n",
    "    window_naver = driver.current_window_handle\n",
    "    driver.get('https://www.naver.com')\n",
    "    ## page loading\n",
    "    search_box = driver.find_elements(By.XPATH, '//input[@id=\"query\"]')\n",
    "    search_box[0].send_keys(search_keyword+Keys.ENTER)\n",
    "    ## page loading\n",
    "    shopping_product_xpath='//div[@class=\"product_info\"]//a[contains(@class,\"title\")]'\n",
    "    x = driver.find_elements(By.XPATH, shopping_product_xpath)\n",
    "    return window_naver, x \n",
    "#print(x)\n",
    "#for e in x:\n",
    "#    print(e.text)"
   ]
  },
  {
   "cell_type": "code",
   "execution_count": 3,
   "id": "9d891d67",
   "metadata": {},
   "outputs": [],
   "source": [
    "#driver.switch_to.new_window('tab')\n",
    "def do_daum(search_keyword):\n",
    "    window_daum = driver.current_window_handle\n",
    "    driver.get('https://www.daum.net')\n",
    "\n",
    "    search_box = driver.find_elements(By.XPATH, '//input[@class=\"tf_keyword\"]')\n",
    "    #print(search_box)\n",
    "    search_box[0].send_keys(search_keyword+Keys.ENTER)\n",
    "\n",
    "    x = driver.find_elements(By.XPATH, '//div[@class=\"box_cont\"]/a[@class=\"tit_item\"]')\n",
    "    return window_daum, x\n",
    "#print(x)\n",
    "#or i in x:\n",
    "#   print(i.text)"
   ]
  },
  {
   "cell_type": "code",
   "execution_count": 4,
   "id": "b7ee3ce1",
   "metadata": {},
   "outputs": [],
   "source": [
    "#driver.switch_to.new_window('tab')\n",
    "def do_google(search_keyword):\n",
    "    window_google = driver.current_window_handle\n",
    "    driver.get('https://www.google.com')\n",
    "\n",
    "    search_box = driver.find_elements(By.XPATH, '//input[@name=\"q\"]')\n",
    "    #print(search_box)\n",
    "    search_box[0].send_keys(search_keyword+Keys.ENTER)\n",
    "\n",
    "    x = driver.find_elements(By.XPATH, '//h1[text()=\"검색결과\"]/..//h3')\n",
    "    return window_google, x\n",
    "#print(x)\n",
    "#for i in x:\n",
    "#    print(i.text)"
   ]
  },
  {
   "cell_type": "code",
   "execution_count": 6,
   "id": "cf751b31",
   "metadata": {},
   "outputs": [
    {
     "name": "stdout",
     "output_type": "stream",
     "text": [
      "*** 네이버\n",
      "마이크로소프트 서피스 프로9 QIL-00032\n",
      "레노버 리전 LEGION 5 Pro 16ARH R7 3060 Edition\n",
      "삼성전자 노트북 플러스2 NT550XDA-K14A\n",
      "LG전자 LG그램 15ZD95Q-GX56K\n",
      "삼성전자 갤럭시북2 NT550XEZ-A58A\n",
      "*** 다음\n",
      "삼성전자 갤럭시북2 NT550XEZ-A58A\n",
      "LG전자 2022 그램15(12세대) 15ZD95Q-GX56K\n",
      "삼성전자 노트북 플러스2 NT550XDA-K14A\n",
      "LG전자 2022 울트라PC 15UD40Q-GX30K\n",
      "[<selenium.webdriver.remote.webelement.WebElement (session=\"9900791dc9ec43b340587f0e0ffaa798\", element=\"2ef9719e-8a07-4767-ae9c-378638093d5c\")>]\n",
      "*** 구글\n",
      "노트북 전체 : 다나와 가격비교\n",
      "노트북 - 나무위키\n",
      "노트북 - G마켓\n",
      "노트북존 : 컴퓨존\n",
      "가격대 별 추천 노트북 (2023) - 노써치\n",
      "동영상\n",
      "삼성노트북 : 롯데ON\n",
      "레노버 노트북| 개인용 및 업무용 컴퓨터 | Lenovo 코리아\n",
      "노트북 | Samsung 대한민국\n"
     ]
    }
   ],
   "source": [
    "options = webdriver.ChromeOptions()\n",
    "options.add_argument(\"--headless=new\")\n",
    "\n",
    "driver = webdriver.Chrome(options = options)\n",
    "\n",
    "win, data = do_naver('노트북')\n",
    "print('*** 네이버')\n",
    "for i in data:\n",
    "    print(i.text)\n",
    "\n",
    "driver.switch_to.new_window('tab')\n",
    "win, data = do_daum('노트북')\n",
    "print('*** 다음')\n",
    "for i in data:\n",
    "    print(i.text)\n",
    "\n",
    "driver.switch_to.new_window('tab')\n",
    "win, data = do_google('노트북')\n",
    "print('*** 구글')\n",
    "for i in data:\n",
    "    print(i.text)\n",
    "    \n",
    "driver.quit()"
   ]
  }
 ],
 "metadata": {
  "kernelspec": {
   "display_name": "Python 3 (ipykernel)",
   "language": "python",
   "name": "python3"
  },
  "language_info": {
   "codemirror_mode": {
    "name": "ipython",
    "version": 3
   },
   "file_extension": ".py",
   "mimetype": "text/x-python",
   "name": "python",
   "nbconvert_exporter": "python",
   "pygments_lexer": "ipython3",
   "version": "3.10.5"
  }
 },
 "nbformat": 4,
 "nbformat_minor": 5
}
