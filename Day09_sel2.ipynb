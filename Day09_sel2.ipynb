{
 "cells": [
  {
   "cell_type": "code",
   "execution_count": 23,
   "id": "d4bcaf09",
   "metadata": {},
   "outputs": [],
   "source": [
    "from selenium import webdriver\n",
    "from selenium.webdriver.common.by import By\n",
    "from selenium.webdriver.common.keys import Keys\n",
    "from selenium.webdriver.support.wait import WebDriverWait"
   ]
  },
  {
   "cell_type": "code",
   "execution_count": 24,
   "id": "d7492723",
   "metadata": {},
   "outputs": [],
   "source": [
    "driver = webdriver.Chrome()\n",
    "driver.get('https://www.naver.com')"
   ]
  },
  {
   "cell_type": "code",
   "execution_count": 25,
   "id": "027d91bf",
   "metadata": {},
   "outputs": [],
   "source": [
    "shopping_iframes = driver.find_elements(By.XPATH, '//iframe[@id=\"shopcast_iframe\"]')\n",
    "#print(shopping_iframes)\n",
    "\n",
    "driver.switch_to.frame(shopping_iframes[0])"
   ]
  },
  {
   "cell_type": "code",
   "execution_count": 26,
   "id": "bdafd744",
   "metadata": {},
   "outputs": [
    {
     "name": "stdout",
     "output_type": "stream",
     "text": [
      "쿠팡\n",
      "G마켓\n",
      "옥션\n",
      "11번가\n",
      "SSG닷컴\n",
      "올리브영\n",
      "위메프\n",
      "GS샵\n",
      "CJ온스타일\n",
      "패션플러스\n",
      "CJ더마켓\n"
     ]
    }
   ],
   "source": [
    "mall_links = driver.find_elements(By.XPATH, '//a[contains(@class,\"mall\")]')\n",
    "#mall_links = driver.find_elements(By.XPATH, '//a[@target=\"_blank\"]')\n",
    "#mall_links = driver.find_elements(By.XPATH, '//div[@class=\"group_mall\"]')\n",
    "#print(mall_links)\n",
    "for i in mall_links:\n",
    "    print(i.text)"
   ]
  },
  {
   "cell_type": "code",
   "execution_count": 27,
   "id": "861a4fb0",
   "metadata": {},
   "outputs": [],
   "source": [
    "mall_links[0].click()"
   ]
  },
  {
   "cell_type": "code",
   "execution_count": 29,
   "id": "b2d7595e",
   "metadata": {},
   "outputs": [
    {
     "name": "stdout",
     "output_type": "stream",
     "text": [
      "['CDwindow-A4C050B2CE9D8BB4DB24B2A9E98E9191', 'CDwindow-A4FFA0973A0EA518E2E522933FD345DC']\n",
      "CDwindow-A4C050B2CE9D8BB4DB24B2A9E98E9191\n",
      "NAVER\n"
     ]
    }
   ],
   "source": [
    "print(driver.window_handles)\n",
    "print(driver.current_window_handle)\n",
    "print(driver.title)"
   ]
  },
  {
   "cell_type": "code",
   "execution_count": 31,
   "id": "537923a9",
   "metadata": {},
   "outputs": [
    {
     "name": "stdout",
     "output_type": "stream",
     "text": [
      "CDwindow-A4C050B2CE9D8BB4DB24B2A9E98E9191\n",
      "NAVER\n"
     ]
    }
   ],
   "source": [
    "driver.switch_to.window(driver.window_handles[0])\n",
    "print(driver.current_window_handle)\n",
    "print(driver.title)"
   ]
  },
  {
   "cell_type": "code",
   "execution_count": 22,
   "id": "b8a3a920",
   "metadata": {},
   "outputs": [],
   "source": [
    "driver.quit()"
   ]
  },
  {
   "cell_type": "markdown",
   "id": "7df21c2e",
   "metadata": {},
   "source": [
    "driver.switch_to.frame(shopping_iframes[0])    # 선택한 iframe 영역으로 전환\n",
    "driver.switch_to.default_content()             # 전체 페이지 영역으로 복귀\n",
    "   * 현재 페이지에 있는 iframe 리스트 => xpath로 검색.\n",
    "\n",
    "driver.switch_to.window(driver.window_handles[0])  # 선택한 윈도우(탭) 으로 전환\n",
    "driver.close()                                     # 현재 선택된 윈도우(탭) 닫기\n",
    "dirver.window_handles                  # 현재 브라우저에 오픈된 윈도우(탭) 리스트"
   ]
  }
 ],
 "metadata": {
  "kernelspec": {
   "display_name": "Python 3 (ipykernel)",
   "language": "python",
   "name": "python3"
  },
  "language_info": {
   "codemirror_mode": {
    "name": "ipython",
    "version": 3
   },
   "file_extension": ".py",
   "mimetype": "text/x-python",
   "name": "python",
   "nbconvert_exporter": "python",
   "pygments_lexer": "ipython3",
   "version": "3.10.5"
  }
 },
 "nbformat": 4,
 "nbformat_minor": 5
}
